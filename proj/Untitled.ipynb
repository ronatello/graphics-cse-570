{
 "cells": [
  {
   "cell_type": "code",
   "execution_count": 1,
   "id": "4ccc9fcd",
   "metadata": {},
   "outputs": [
    {
     "name": "stdout",
     "output_type": "stream",
     "text": [
      "Cloning into 'MeshCNN'...\n",
      "remote: Enumerating objects: 264, done.\u001b[K\n",
      "remote: Counting objects: 100% (5/5), done.\u001b[K\n",
      "remote: Compressing objects: 100% (4/4), done.\u001b[K\n",
      "remote: Total 264 (delta 0), reused 4 (delta 0), pack-reused 259\u001b[K\n",
      "Receiving objects: 100% (264/264), 3.77 MiB | 1.07 MiB/s, done.\n",
      "Resolving deltas: 100% (93/93), done.\n"
     ]
    }
   ],
   "source": [
    "!git clone https://github.com/zshyang/MeshCNN.git"
   ]
  },
  {
   "cell_type": "code",
   "execution_count": 2,
   "id": "1348c68a",
   "metadata": {},
   "outputs": [
    {
     "name": "stdout",
     "output_type": "stream",
     "text": [
      "/home/aaron/aaron/graphics/proj/MeshCNN\n"
     ]
    }
   ],
   "source": [
    "%cd MeshCNN"
   ]
  },
  {
   "cell_type": "code",
   "execution_count": 4,
   "id": "e496a3b3",
   "metadata": {},
   "outputs": [
    {
     "name": "stdout",
     "output_type": "stream",
     "text": [
      "Figure(640x480)\r\n"
     ]
    }
   ],
   "source": [
    "!bash ./scripts/shrec/view.sh"
   ]
  },
  {
   "cell_type": "code",
   "execution_count": null,
   "id": "ee61bf49",
   "metadata": {},
   "outputs": [],
   "source": []
  }
 ],
 "metadata": {
  "kernelspec": {
   "display_name": "Python 3",
   "language": "python",
   "name": "python3"
  },
  "language_info": {
   "codemirror_mode": {
    "name": "ipython",
    "version": 3
   },
   "file_extension": ".py",
   "mimetype": "text/x-python",
   "name": "python",
   "nbconvert_exporter": "python",
   "pygments_lexer": "ipython3",
   "version": "3.6.9"
  }
 },
 "nbformat": 4,
 "nbformat_minor": 5
}
